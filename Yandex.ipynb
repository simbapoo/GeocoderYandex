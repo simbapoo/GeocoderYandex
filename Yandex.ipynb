{
 "cells": [
  {
   "cell_type": "code",
   "execution_count": 39,
   "metadata": {},
   "outputs": [],
   "source": [
    "from geopy.geocoders import Yandex\n",
    "import pandas as pd"
   ]
  },
  {
   "cell_type": "code",
   "execution_count": 54,
   "metadata": {},
   "outputs": [],
   "source": [
    "import requests\n",
    "\n",
    "def fetch_coordinates(apikey, place):\n",
    "    base_url = \"https://geocode-maps.yandex.ru/1.x\"\n",
    "    params = {\"geocode\": place, \"apikey\": apikey, \"format\": \"json\"}\n",
    "    response = requests.get(base_url, params=params)\n",
    "    response.raise_for_status()\n",
    "    found_places = response.json()['response']['GeoObjectCollection']['featureMember']\n",
    "    most_relevant = found_places[0]\n",
    "    lon, lat = most_relevant['GeoObject']['Point']['pos'].split(\" \")\n",
    "    return lat , lon"
   ]
  },
  {
   "cell_type": "code",
   "execution_count": 57,
   "metadata": {},
   "outputs": [
    {
     "data": {
      "text/plain": [
       "('50.283509', '57.202139')"
      ]
     },
     "execution_count": 57,
     "metadata": {},
     "output_type": "execute_result"
    }
   ],
   "source": [
    "apikey = ''  # ваш ключ\n",
    "\n",
    "coords = fetch_coordinates(apikey, 'Актобе Бочка ул Аз Наурыз д.20 ИП Острый')\n",
    "coords"
   ]
  },
  {
   "cell_type": "code",
   "execution_count": null,
   "metadata": {},
   "outputs": [],
   "source": []
  }
 ],
 "metadata": {
  "kernelspec": {
   "display_name": "Python 3",
   "language": "python",
   "name": "python3"
  },
  "language_info": {
   "codemirror_mode": {
    "name": "ipython",
    "version": 3
   },
   "file_extension": ".py",
   "mimetype": "text/x-python",
   "name": "python",
   "nbconvert_exporter": "python",
   "pygments_lexer": "ipython3",
   "version": "3.8.3"
  }
 },
 "nbformat": 4,
 "nbformat_minor": 4
}
